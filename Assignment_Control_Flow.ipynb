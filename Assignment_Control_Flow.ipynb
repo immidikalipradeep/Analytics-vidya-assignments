{
  "nbformat": 4,
  "nbformat_minor": 0,
  "metadata": {
    "kernelspec": {
      "display_name": "Python 3",
      "language": "python",
      "name": "python3"
    },
    "language_info": {
      "codemirror_mode": {
        "name": "ipython",
        "version": 3
      },
      "file_extension": ".py",
      "mimetype": "text/x-python",
      "name": "python",
      "nbconvert_exporter": "python",
      "pygments_lexer": "ipython3",
      "version": "3.7.3"
    },
    "colab": {
      "name": "Assignment- Control Flow.ipynb",
      "provenance": []
    }
  },
  "cells": [
    {
      "cell_type": "markdown",
      "metadata": {
        "id": "o2PNXvISk2lR"
      },
      "source": [
        "---\n",
        "---\n",
        "\n",
        "<center><h1>📍 📍 Assignment: Control Flow 📍 📍</h1></center>\n",
        "\n",
        "---\n",
        "\n",
        "***Take 3 inputs from the user***\n",
        "\n",
        " -  **What is your Age?**    (Answer will be an Intger value)\n",
        " -  **Do you eat Pizza?**    (Yes/No)\n",
        " -  **Do you do exercise?**  (Yes/No)\n",
        "\n",
        "#### `Write the if else condition for the given flow chart.`\n",
        "\n",
        "![](image/control-flow.png)"
      ]
    },
    {
      "cell_type": "code",
      "metadata": {
        "id": "POBQIShYk2lW"
      },
      "source": [
        "# take input from the user: age\n",
        "age = int(input(\"What is your Age? \"))"
      ],
      "execution_count": null,
      "outputs": []
    },
    {
      "cell_type": "code",
      "metadata": {
        "id": "Zp4i8WRxk2lX"
      },
      "source": [
        "pizza = input(\"Do you eat Pizza? \")"
      ],
      "execution_count": null,
      "outputs": []
    },
    {
      "cell_type": "code",
      "metadata": {
        "id": "97OsVWuSk2lY"
      },
      "source": [
        "exercise = input(\"Do you do exercise? \")"
      ],
      "execution_count": null,
      "outputs": []
    },
    {
      "cell_type": "code",
      "metadata": {
        "id": "bVcfqE-sk2la"
      },
      "source": [
        "if age < 30:\n",
        "    # check for the pizza condition\n",
        "    if (\"\"\"Write condition here\"\"\"):\n",
        "        print(\"You are fit!!\")\n",
        "        \n",
        "    else:\n",
        "        print(\"You are unfit!!\")\n",
        "        \n",
        "else:\n",
        "    # check for the exercise condition\n",
        "    ## write code here\n",
        "    \n",
        "    \n",
        "    "
      ],
      "execution_count": null,
      "outputs": []
    }
  ]
}