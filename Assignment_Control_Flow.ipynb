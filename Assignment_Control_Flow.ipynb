{
  "nbformat": 4,
  "nbformat_minor": 0,
  "metadata": {
    "kernelspec": {
      "display_name": "Python 3",
      "language": "python",
      "name": "python3"
    },
    "language_info": {
      "codemirror_mode": {
        "name": "ipython",
        "version": 3
      },
      "file_extension": ".py",
      "mimetype": "text/x-python",
      "name": "python",
      "nbconvert_exporter": "python",
      "pygments_lexer": "ipython3",
      "version": "3.7.3"
    },
    "colab": {
      "name": "Assignment- Control Flow.ipynb",
      "provenance": []
    }
  },
  "cells": [
    {
      "cell_type": "markdown",
      "metadata": {
        "id": "XtkF5C-OkWkg"
      },
      "source": [
        "---\n",
        "---\n",
        "\n",
        "<center><h1>📍 📍 Assignment: Control Flow 📍 📍</h1></center>\n",
        "\n",
        "---\n",
        "\n",
        "***Take 3 inputs from the user***\n",
        "\n",
        " -  **What is your Age?**    (Answer will be an Intger value)\n",
        " -  **Do you eat Pizza?**    (Yes/No)\n",
        " -  **Do you do exercise?**  (Yes/No)\n",
        "\n",
        "#### `Write the if else condition for the given flow chart.`\n",
        "\n",
        "![](image/control-flow.png)"
      ]
    },
    {
      "cell_type": "code",
      "metadata": {
        "colab": {
          "base_uri": "https://localhost:8080/"
        },
        "id": "4lmU1plWkWkn",
        "outputId": "f3aa1a70-64f6-42ed-ed69-9e0fdd5ae327"
      },
      "source": [
        "# take input from the user: age\n",
        "age = int(input(\"What is your Age? \"))"
      ],
      "execution_count": 2,
      "outputs": [
        {
          "output_type": "stream",
          "text": [
            "What is your Age? 20\n"
          ],
          "name": "stdout"
        }
      ]
    },
    {
      "cell_type": "code",
      "metadata": {
        "colab": {
          "base_uri": "https://localhost:8080/"
        },
        "id": "kBv0XhG0kWko",
        "outputId": "9876a428-f72e-43a3-ed3b-b33f8a901c0b"
      },
      "source": [
        "pizza = input(\"Do you eat Pizza? \")"
      ],
      "execution_count": 3,
      "outputs": [
        {
          "output_type": "stream",
          "text": [
            "Do you eat Pizza? yes\n"
          ],
          "name": "stdout"
        }
      ]
    },
    {
      "cell_type": "code",
      "metadata": {
        "colab": {
          "base_uri": "https://localhost:8080/"
        },
        "id": "LHJABMUJkWkp",
        "outputId": "cda26b9d-5449-488a-b391-f9bbdf256a7c"
      },
      "source": [
        "exercise = input(\"Do you do exercise? \")"
      ],
      "execution_count": 4,
      "outputs": [
        {
          "output_type": "stream",
          "text": [
            "Do you do exercise? no\n"
          ],
          "name": "stdout"
        }
      ]
    },
    {
      "cell_type": "code",
      "metadata": {
        "colab": {
          "base_uri": "https://localhost:8080/"
        },
        "id": "dT6CEEpCkWkp",
        "outputId": "933d0745-dcbe-4d00-a242-918b28806b00"
      },
      "source": [
        "if age < 30:\n",
        "    # check for the pizza condition\n",
        "    if (pizza==\"yes\"):\n",
        "        print(\"You are fit!!\")\n",
        "        \n",
        "    else:\n",
        "        print(\"You are unfit!!\")\n",
        "        \n",
        "else:\n",
        "  if(exercise==\"yes\"):\n",
        "    print(\"You are fit!!\")\n",
        "  else:\n",
        "    print(\"You are unfit!!\")\n",
        "\n",
        "\n",
        "    # check for the exercise condition\n",
        "    ## write code here\n",
        "    \n",
        "    \n",
        "    "
      ],
      "execution_count": 5,
      "outputs": [
        {
          "output_type": "stream",
          "text": [
            "You are fit!!\n"
          ],
          "name": "stdout"
        }
      ]
    },
    {
      "cell_type": "code",
      "metadata": {
        "id": "cgaKssbdmCqw"
      },
      "source": [
        ""
      ],
      "execution_count": 5,
      "outputs": []
    }
  ]
}